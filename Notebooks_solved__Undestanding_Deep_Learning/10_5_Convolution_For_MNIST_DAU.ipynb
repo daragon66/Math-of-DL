{
  "nbformat": 4,
  "nbformat_minor": 0,
  "metadata": {
    "colab": {
      "provenance": []
    },
    "kernelspec": {
      "name": "python3",
      "display_name": "Python 3"
    },
    "language_info": {
      "name": "python"
    }
  },
  "cells": [
    {
      "cell_type": "markdown",
      "metadata": {
        "id": "view-in-github"
      },
      "source": [
        "<a href=\"https://colab.research.google.com/github/udlbook/udlbook/blob/main/Notebooks/Chap10/10_5_Convolution_For_MNIST.ipynb\" target=\"_parent\"><img src=\"https://colab.research.google.com/assets/colab-badge.svg\" alt=\"Open In Colab\"/></a>"
      ]
    },
    {
      "cell_type": "markdown",
      "source": [
        "# **Notebook 10.5: Convolution for MNIST**\n",
        "\n",
        "This notebook builds a proper network for 2D convolution.  It works with the MNIST dataset (figure 15.15a), which was the original classic dataset for classifying images.  The network will take a 28x28 grayscale image and classify it into one of 10 classes representing a digit.\n",
        "\n",
        "The code is adapted from https://nextjournal.com/gkoehler/pytorch-mnist\n",
        "\n",
        "Work through the cells below, running each cell in turn. In various places you will see the words \"TO DO\". Follow the instructions at these places and make predictions about what is going to happen or write code to complete the functions.\n",
        "\n",
        "Contact me at udlbookmail@gmail.com if you find any mistakes or have any suggestions.\n"
      ],
      "metadata": {
        "id": "t9vk9Elugvmi"
      }
    },
    {
      "cell_type": "code",
      "source": [
        "import torch\n",
        "import torchvision\n",
        "import torch.nn as nn\n",
        "import torch.nn.functional as F\n",
        "import torch.optim as optim\n",
        "import matplotlib.pyplot as plt\n",
        "import random"
      ],
      "metadata": {
        "id": "YrXWAH7sUWvU"
      },
      "execution_count": 1,
      "outputs": []
    },
    {
      "cell_type": "code",
      "source": [
        "# Run this once to load the train and test data straight into a dataloader class\n",
        "# that will provide the batches\n",
        "batch_size_train = 64\n",
        "batch_size_test = 1000\n",
        "train_loader = torch.utils.data.DataLoader(\n",
        "  torchvision.datasets.MNIST('/files/', train=True, download=True,\n",
        "                             transform=torchvision.transforms.Compose([\n",
        "                               torchvision.transforms.ToTensor(),\n",
        "                               torchvision.transforms.Normalize(\n",
        "                                 (0.1307,), (0.3081,))\n",
        "                             ])),\n",
        "  batch_size=batch_size_train, shuffle=True)\n",
        "\n",
        "test_loader = torch.utils.data.DataLoader(\n",
        "  torchvision.datasets.MNIST('/files/', train=False, download=True,\n",
        "                             transform=torchvision.transforms.Compose([\n",
        "                               torchvision.transforms.ToTensor(),\n",
        "                               torchvision.transforms.Normalize(\n",
        "                                 (0.1307,), (0.3081,))\n",
        "                             ])),\n",
        "  batch_size=batch_size_test, shuffle=True)"
      ],
      "metadata": {
        "id": "wScBGXXFVadm",
        "colab": {
          "base_uri": "https://localhost:8080/"
        },
        "outputId": "6ca49f8c-dc95-4460-f668-9e27a50e3ef6"
      },
      "execution_count": 2,
      "outputs": [
        {
          "output_type": "stream",
          "name": "stdout",
          "text": [
            "Downloading http://yann.lecun.com/exdb/mnist/train-images-idx3-ubyte.gz\n",
            "Failed to download (trying next):\n",
            "HTTP Error 403: Forbidden\n",
            "\n",
            "Downloading https://ossci-datasets.s3.amazonaws.com/mnist/train-images-idx3-ubyte.gz\n",
            "Downloading https://ossci-datasets.s3.amazonaws.com/mnist/train-images-idx3-ubyte.gz to /files/MNIST/raw/train-images-idx3-ubyte.gz\n"
          ]
        },
        {
          "output_type": "stream",
          "name": "stderr",
          "text": [
            "100%|██████████| 9912422/9912422 [00:00<00:00, 53923908.92it/s]\n"
          ]
        },
        {
          "output_type": "stream",
          "name": "stdout",
          "text": [
            "Extracting /files/MNIST/raw/train-images-idx3-ubyte.gz to /files/MNIST/raw\n",
            "\n",
            "Downloading http://yann.lecun.com/exdb/mnist/train-labels-idx1-ubyte.gz\n",
            "Failed to download (trying next):\n",
            "HTTP Error 403: Forbidden\n",
            "\n",
            "Downloading https://ossci-datasets.s3.amazonaws.com/mnist/train-labels-idx1-ubyte.gz\n",
            "Downloading https://ossci-datasets.s3.amazonaws.com/mnist/train-labels-idx1-ubyte.gz to /files/MNIST/raw/train-labels-idx1-ubyte.gz\n"
          ]
        },
        {
          "output_type": "stream",
          "name": "stderr",
          "text": [
            "100%|██████████| 28881/28881 [00:00<00:00, 43573990.58it/s]"
          ]
        },
        {
          "output_type": "stream",
          "name": "stdout",
          "text": [
            "Extracting /files/MNIST/raw/train-labels-idx1-ubyte.gz to /files/MNIST/raw\n",
            "\n",
            "Downloading http://yann.lecun.com/exdb/mnist/t10k-images-idx3-ubyte.gz\n",
            "Failed to download (trying next):\n",
            "HTTP Error 403: Forbidden\n",
            "\n",
            "Downloading https://ossci-datasets.s3.amazonaws.com/mnist/t10k-images-idx3-ubyte.gz\n",
            "Downloading https://ossci-datasets.s3.amazonaws.com/mnist/t10k-images-idx3-ubyte.gz to /files/MNIST/raw/t10k-images-idx3-ubyte.gz\n"
          ]
        },
        {
          "output_type": "stream",
          "name": "stderr",
          "text": [
            "\n",
            "100%|██████████| 1648877/1648877 [00:00<00:00, 65465358.44it/s]\n"
          ]
        },
        {
          "output_type": "stream",
          "name": "stdout",
          "text": [
            "Extracting /files/MNIST/raw/t10k-images-idx3-ubyte.gz to /files/MNIST/raw\n",
            "\n",
            "Downloading http://yann.lecun.com/exdb/mnist/t10k-labels-idx1-ubyte.gz\n",
            "Failed to download (trying next):\n",
            "HTTP Error 403: Forbidden\n",
            "\n",
            "Downloading https://ossci-datasets.s3.amazonaws.com/mnist/t10k-labels-idx1-ubyte.gz\n",
            "Downloading https://ossci-datasets.s3.amazonaws.com/mnist/t10k-labels-idx1-ubyte.gz to /files/MNIST/raw/t10k-labels-idx1-ubyte.gz\n"
          ]
        },
        {
          "output_type": "stream",
          "name": "stderr",
          "text": [
            "100%|██████████| 4542/4542 [00:00<00:00, 5343766.84it/s]\n"
          ]
        },
        {
          "output_type": "stream",
          "name": "stdout",
          "text": [
            "Extracting /files/MNIST/raw/t10k-labels-idx1-ubyte.gz to /files/MNIST/raw\n",
            "\n"
          ]
        }
      ]
    },
    {
      "cell_type": "code",
      "source": [
        "# Let's draw some of the training data\n",
        "examples = enumerate(test_loader)\n",
        "batch_idx, (example_data, example_targets) = next(examples)\n",
        "\n",
        "fig = plt.figure()\n",
        "for i in range(6):\n",
        "  plt.subplot(2,3,i+1)\n",
        "  plt.tight_layout()\n",
        "  plt.imshow(example_data[i][0], cmap='gray', interpolation='none')\n",
        "  plt.title(\"Ground Truth: {}\".format(example_targets[i]))\n",
        "  plt.xticks([])\n",
        "  plt.yticks([])\n",
        "plt.show()"
      ],
      "metadata": {
        "id": "8bKADvLHbiV5",
        "colab": {
          "base_uri": "https://localhost:8080/",
          "height": 438
        },
        "outputId": "78040e4d-5804-4db5-d2b8-b6d71eba82c4"
      },
      "execution_count": 3,
      "outputs": [
        {
          "output_type": "display_data",
          "data": {
            "text/plain": [
              "<Figure size 640x480 with 6 Axes>"
            ],
            "image/png": "[encoded data removed]"
          },
          "metadata": {}
        }
      ]
    },
    {
      "cell_type": "markdown",
      "source": [
        "Define the network.  This is a more typical way to define a network than the sequential structure.  We define a class for the network, and define the parameters in the constructor.  Then we use a function called forward to actually run the network.  It's easy to see how you might use residual connections in this format."
      ],
      "metadata": {
        "id": "_sFvRDGrl4qe"
      }
    },
    {
      "cell_type": "code",
      "source": [
        "from os import X_OK\n",
        "# TODO Change this class to implement\n",
        "# 1. A valid convolution with kernel size 5, 1 input channel and 10 output channels\n",
        "# 2. A max pooling operation over a 2x2 area\n",
        "# 3. A Relu\n",
        "# 4. A valid convolution with kernel size 5, 10 input channels and 20 output channels\n",
        "# 5. A 2D Dropout layer\n",
        "# 6. A max pooling operation over a 2x2 area\n",
        "# 7. A relu\n",
        "# 8. A flattening operation\n",
        "# 9. A fully connected layer mapping from (whatever dimensions we are at-- find out using .shape) to 50\n",
        "# 10. A ReLU\n",
        "# 11. A fully connected layer mapping from 50 to 10 dimensions\n",
        "# 12. A softmax function.\n",
        "\n",
        "# Replace this class which implements a minimal network (which still does okay)\n",
        "class Net(nn.Module):\n",
        "    def __init__(self):\n",
        "        super(Net, self).__init__()\n",
        "        # Valid convolution, 1 channel in, 2 channels out, stride 1, kernel size = 3\n",
        "        self.conv1 = nn.Conv2d(1, 2, kernel_size=3)\n",
        "        # Dropout for convolutions\n",
        "        self.drop = nn.Dropout2d()\n",
        "        # Fully connected layer\n",
        "        self.fc1 = nn.Linear(338, 10)\n",
        "\n",
        "    def forward(self, x):\n",
        "        x = self.conv1(x)\n",
        "        x = self.drop(x)\n",
        "        x = F.max_pool2d(x,2)\n",
        "        x = F.relu(x)\n",
        "        x = x.flatten(1)\n",
        "        x = self.fc1(x)\n",
        "        x = F.log_softmax(x)\n",
        "        return x\n",
        "\n",
        "\n",
        "\n",
        "\n"
      ],
      "metadata": {
        "id": "EQkvw2KOPVl7"
      },
      "execution_count": null,
      "outputs": []
    },
    {
      "cell_type": "code",
      "source": [
        "class Net(nn.Module):\n",
        "    def __init__(self):\n",
        "        super(Net, self).__init__()\n",
        "        # 1. Convolutional layer: kernel size 5, 1 input channel, 10 output channels\n",
        "        self.conv1 = nn.Conv2d(1, 10, kernel_size=5)\n",
        "        # 2. Max pooling over 2x2 area\n",
        "        self.pool1 = nn.MaxPool2d(kernel_size=2, stride=2)\n",
        "        # 3. ReLU activation\n",
        "        # No need to define a separate layer for ReLU, we will apply it directly in forward pass\n",
        "\n",
        "        # 4. Convolutional layer: kernel size 5, 10 input channels, 20 output channels\n",
        "        self.conv2 = nn.Conv2d(10, 20, kernel_size=5)\n",
        "        # 5. Dropout layer with 2D dropout (recommended after convolutional layers)\n",
        "        self.dropout = nn.Dropout2d()\n",
        "        # 6. Max pooling over 2x2 area\n",
        "        self.pool2 = nn.MaxPool2d(kernel_size=2, stride=2)\n",
        "        # 7. ReLU activation\n",
        "        # Again, apply directly in forward pass\n",
        "\n",
        "        # 8. Flattening operation will be done in forward pass\n",
        "\n",
        "        # 9. Fully connected layer: mapping to 50 dimensions\n",
        "        self.fc1 = nn.Linear(320, 50)\n",
        "        # 10. ReLU activation\n",
        "        # Apply directly in forward pass\n",
        "\n",
        "        # 11. Fully connected layer: mapping from 50 to 10 dimensions\n",
        "        self.fc2 = nn.Linear(50, 10)\n",
        "        # 12. Softmax function (included in CrossEntropyLoss typically, not in the forward pass)\n",
        "\n",
        "    def forward(self, x):\n",
        "        # First convolutional layer, followed by pooling and ReLU\n",
        "        x = self.pool1(F.relu(self.conv1(x)))\n",
        "        # Second convolutional layer, followed by dropout, pooling and ReLU\n",
        "        x = self.pool2(F.relu(self.dropout(self.conv2(x))))\n",
        "        # Flatten the tensor for fully connected layers\n",
        "        x = x.view(-1, 320)  # Calculate the size after flattening\n",
        "        # First fully connected layer with ReLU\n",
        "        x = F.relu(self.fc1(x))\n",
        "        # Second fully connected layer with log softmax (for NLL loss)\n",
        "        x = F.log_softmax(self.fc2(x), dim=1)\n",
        "        return x"
      ],
      "metadata": {
        "id": "U5WGedHjJC7o"
      },
      "execution_count": 4,
      "outputs": []
    },
    {
      "cell_type": "code",
      "source": [
        "# He initialization of weights\n",
        "def weights_init(layer_in):\n",
        "  if isinstance(layer_in, nn.Linear):\n",
        "    nn.init.kaiming_uniform_(layer_in.weight)\n",
        "    layer_in.bias.data.fill_(0.0)"
      ],
      "metadata": {
        "id": "qWZtkCZcU_dg"
      },
      "execution_count": 5,
      "outputs": []
    },
    {
      "cell_type": "code",
      "source": [
        "# Create network\n",
        "model = Net()\n",
        "# Initialize model weights\n",
        "model.apply(weights_init)\n",
        "# Define optimizer\n",
        "optimizer = optim.SGD(model.parameters(), lr=0.01, momentum=0.5)"
      ],
      "metadata": {
        "id": "FslroPJJffrh"
      },
      "execution_count": 6,
      "outputs": []
    },
    {
      "cell_type": "code",
      "source": [
        "# Main training routine\n",
        "def train(epoch):\n",
        "  model.train()\n",
        "  # Get each\n",
        "  for batch_idx, (data, target) in enumerate(train_loader):\n",
        "    optimizer.zero_grad()\n",
        "    output = model(data)\n",
        "    loss = F.nll_loss(output, target)\n",
        "    loss.backward()\n",
        "    optimizer.step()\n",
        "    # Store results\n",
        "    if batch_idx % 10 == 0:\n",
        "      print('Train Epoch: {} [{}/{}]\\tLoss: {:.6f}'.format(\n",
        "        epoch, batch_idx * len(data), len(train_loader.dataset), loss.item()))"
      ],
      "metadata": {
        "id": "xKQd9PzkQ766"
      },
      "execution_count": 7,
      "outputs": []
    },
    {
      "cell_type": "code",
      "source": [
        "# Run on test data\n",
        "def test():\n",
        "  model.eval()\n",
        "  test_loss = 0\n",
        "  correct = 0\n",
        "  with torch.no_grad():\n",
        "    for data, target in test_loader:\n",
        "      output = model(data)\n",
        "      test_loss += F.nll_loss(output, target, size_average=False).item()\n",
        "      pred = output.data.max(1, keepdim=True)[1]\n",
        "      correct += pred.eq(target.data.view_as(pred)).sum()\n",
        "  test_loss /= len(test_loader.dataset)\n",
        "  print('\\nTest set: Avg. loss: {:.4f}, Accuracy: {}/{} ({:.0f}%)\\n'.format(\n",
        "    test_loss, correct, len(test_loader.dataset),\n",
        "    100. * correct / len(test_loader.dataset)))"
      ],
      "metadata": {
        "id": "Byn-f7qWRLxX"
      },
      "execution_count": 8,
      "outputs": []
    },
    {
      "cell_type": "code",
      "source": [
        "# Get initial performance\n",
        "test()\n",
        "# Train for three epochs\n",
        "n_epochs = 3\n",
        "for epoch in range(1, n_epochs + 1):\n",
        "  train(epoch)\n",
        "  test()"
      ],
      "metadata": {
        "id": "YgLaex1pfhqz",
        "colab": {
          "base_uri": "https://localhost:8080/"
        },
        "outputId": "6b05b8ad-9acb-4169-acd7-c6c147332a8d"
      },
      "execution_count": 9,
      "outputs": [
        {
          "output_type": "stream",
          "name": "stderr",
          "text": [
            "/usr/local/lib/python3.10/dist-packages/torch/nn/_reduction.py:42: UserWarning: size_average and reduce args will be deprecated, please use reduction='sum' instead.\n",
            "  warnings.warn(warning.format(ret))\n"
          ]
        },
        {
          "output_type": "stream",
          "name": "stdout",
          "text": [
            "\n",
            "Test set: Avg. loss: 2.7351, Accuracy: 917/10000 (9%)\n",
            "\n",
            "Train Epoch: 1 [0/60000]\tLoss: 3.046953\n",
            "Train Epoch: 1 [640/60000]\tLoss: 2.205559\n",
            "Train Epoch: 1 [1280/60000]\tLoss: 2.111605\n",
            "Train Epoch: 1 [1920/60000]\tLoss: 1.986009\n",
            "Train Epoch: 1 [2560/60000]\tLoss: 1.689205\n",
            "Train Epoch: 1 [3200/60000]\tLoss: 1.554650\n",
            "Train Epoch: 1 [3840/60000]\tLoss: 1.395370\n",
            "Train Epoch: 1 [4480/60000]\tLoss: 1.127333\n",
            "Train Epoch: 1 [5120/60000]\tLoss: 0.947520\n",
            "Train Epoch: 1 [5760/60000]\tLoss: 0.837864\n",
            "Train Epoch: 1 [6400/60000]\tLoss: 1.056223\n",
            "Train Epoch: 1 [7040/60000]\tLoss: 0.876356\n",
            "Train Epoch: 1 [7680/60000]\tLoss: 0.842339\n",
            "Train Epoch: 1 [8320/60000]\tLoss: 0.662391\n",
            "Train Epoch: 1 [8960/60000]\tLoss: 0.734290\n",
            "Train Epoch: 1 [9600/60000]\tLoss: 0.664711\n",
            "Train Epoch: 1 [10240/60000]\tLoss: 0.614636\n",
            "Train Epoch: 1 [10880/60000]\tLoss: 0.509633\n",
            "Train Epoch: 1 [11520/60000]\tLoss: 0.810424\n",
            "Train Epoch: 1 [12160/60000]\tLoss: 0.468342\n",
            "Train Epoch: 1 [12800/60000]\tLoss: 0.487291\n",
            "Train Epoch: 1 [13440/60000]\tLoss: 0.418872\n",
            "Train Epoch: 1 [14080/60000]\tLoss: 0.604488\n",
            "Train Epoch: 1 [14720/60000]\tLoss: 0.424954\n",
            "Train Epoch: 1 [15360/60000]\tLoss: 0.321878\n",
            "Train Epoch: 1 [16000/60000]\tLoss: 0.430034\n",
            "Train Epoch: 1 [16640/60000]\tLoss: 0.417114\n",
            "Train Epoch: 1 [17280/60000]\tLoss: 0.520432\n",
            "Train Epoch: 1 [17920/60000]\tLoss: 0.355709\n",
            "Train Epoch: 1 [18560/60000]\tLoss: 0.565841\n",
            "Train Epoch: 1 [19200/60000]\tLoss: 0.368153\n",
            "Train Epoch: 1 [19840/60000]\tLoss: 0.374430\n",
            "Train Epoch: 1 [20480/60000]\tLoss: 0.589649\n",
            "Train Epoch: 1 [21120/60000]\tLoss: 0.675911\n",
            "Train Epoch: 1 [21760/60000]\tLoss: 0.642655\n",
            "Train Epoch: 1 [22400/60000]\tLoss: 0.457839\n",
            "Train Epoch: 1 [23040/60000]\tLoss: 0.454245\n",
            "Train Epoch: 1 [23680/60000]\tLoss: 0.407492\n",
            "Train Epoch: 1 [24320/60000]\tLoss: 0.335708\n",
            "Train Epoch: 1 [24960/60000]\tLoss: 0.214468\n",
            "Train Epoch: 1 [25600/60000]\tLoss: 0.387608\n",
            "Train Epoch: 1 [26240/60000]\tLoss: 0.477557\n",
            "Train Epoch: 1 [26880/60000]\tLoss: 0.395253\n",
            "Train Epoch: 1 [27520/60000]\tLoss: 0.300802\n",
            "Train Epoch: 1 [28160/60000]\tLoss: 0.414665\n",
            "Train Epoch: 1 [28800/60000]\tLoss: 0.323245\n",
            "Train Epoch: 1 [29440/60000]\tLoss: 0.358188\n",
            "Train Epoch: 1 [30080/60000]\tLoss: 0.517386\n",
            "Train Epoch: 1 [30720/60000]\tLoss: 0.152445\n",
            "Train Epoch: 1 [31360/60000]\tLoss: 0.386337\n",
            "Train Epoch: 1 [32000/60000]\tLoss: 0.353029\n",
            "Train Epoch: 1 [32640/60000]\tLoss: 0.336296\n",
            "Train Epoch: 1 [33280/60000]\tLoss: 0.288155\n",
            "Train Epoch: 1 [33920/60000]\tLoss: 0.381734\n",
            "Train Epoch: 1 [34560/60000]\tLoss: 0.381944\n",
            "Train Epoch: 1 [35200/60000]\tLoss: 0.197061\n",
            "Train Epoch: 1 [35840/60000]\tLoss: 0.186676\n",
            "Train Epoch: 1 [36480/60000]\tLoss: 0.166098\n",
            "Train Epoch: 1 [37120/60000]\tLoss: 0.365389\n",
            "Train Epoch: 1 [37760/60000]\tLoss: 0.178065\n",
            "Train Epoch: 1 [38400/60000]\tLoss: 0.205502\n",
            "Train Epoch: 1 [39040/60000]\tLoss: 0.310959\n",
            "Train Epoch: 1 [39680/60000]\tLoss: 0.529767\n",
            "Train Epoch: 1 [40320/60000]\tLoss: 0.214084\n",
            "Train Epoch: 1 [40960/60000]\tLoss: 0.400757\n",
            "Train Epoch: 1 [41600/60000]\tLoss: 0.225297\n",
            "Train Epoch: 1 [42240/60000]\tLoss: 0.481253\n",
            "Train Epoch: 1 [42880/60000]\tLoss: 0.376742\n",
            "Train Epoch: 1 [43520/60000]\tLoss: 0.291124\n",
            "Train Epoch: 1 [44160/60000]\tLoss: 0.479664\n",
            "Train Epoch: 1 [44800/60000]\tLoss: 0.193523\n",
            "Train Epoch: 1 [45440/60000]\tLoss: 0.289117\n",
            "Train Epoch: 1 [46080/60000]\tLoss: 0.344384\n",
            "Train Epoch: 1 [46720/60000]\tLoss: 0.572431\n",
            "Train Epoch: 1 [47360/60000]\tLoss: 0.197313\n",
            "Train Epoch: 1 [48000/60000]\tLoss: 0.387799\n",
            "Train Epoch: 1 [48640/60000]\tLoss: 0.204686\n",
            "Train Epoch: 1 [49280/60000]\tLoss: 0.236327\n",
            "Train Epoch: 1 [49920/60000]\tLoss: 0.299110\n",
            "Train Epoch: 1 [50560/60000]\tLoss: 0.293991\n",
            "Train Epoch: 1 [51200/60000]\tLoss: 0.264002\n",
            "Train Epoch: 1 [51840/60000]\tLoss: 0.291767\n",
            "Train Epoch: 1 [52480/60000]\tLoss: 0.160346\n",
            "Train Epoch: 1 [53120/60000]\tLoss: 0.408086\n",
            "Train Epoch: 1 [53760/60000]\tLoss: 0.214376\n",
            "Train Epoch: 1 [54400/60000]\tLoss: 0.509650\n",
            "Train Epoch: 1 [55040/60000]\tLoss: 0.170226\n",
            "Train Epoch: 1 [55680/60000]\tLoss: 0.389573\n",
            "Train Epoch: 1 [56320/60000]\tLoss: 0.218784\n",
            "Train Epoch: 1 [56960/60000]\tLoss: 0.482413\n",
            "Train Epoch: 1 [57600/60000]\tLoss: 0.359367\n",
            "Train Epoch: 1 [58240/60000]\tLoss: 0.324837\n",
            "Train Epoch: 1 [58880/60000]\tLoss: 0.272866\n",
            "Train Epoch: 1 [59520/60000]\tLoss: 0.215462\n",
            "\n",
            "Test set: Avg. loss: 0.1385, Accuracy: 9579/10000 (96%)\n",
            "\n",
            "Train Epoch: 2 [0/60000]\tLoss: 0.455107\n",
            "Train Epoch: 2 [640/60000]\tLoss: 0.124696\n",
            "Train Epoch: 2 [1280/60000]\tLoss: 0.328200\n",
            "Train Epoch: 2 [1920/60000]\tLoss: 0.308296\n",
            "Train Epoch: 2 [2560/60000]\tLoss: 0.325756\n",
            "Train Epoch: 2 [3200/60000]\tLoss: 0.183519\n",
            "Train Epoch: 2 [3840/60000]\tLoss: 0.099130\n",
            "Train Epoch: 2 [4480/60000]\tLoss: 0.242112\n",
            "Train Epoch: 2 [5120/60000]\tLoss: 0.322812\n",
            "Train Epoch: 2 [5760/60000]\tLoss: 0.199298\n",
            "Train Epoch: 2 [6400/60000]\tLoss: 0.193897\n",
            "Train Epoch: 2 [7040/60000]\tLoss: 0.185944\n",
            "Train Epoch: 2 [7680/60000]\tLoss: 0.225136\n",
            "Train Epoch: 2 [8320/60000]\tLoss: 0.325022\n",
            "Train Epoch: 2 [8960/60000]\tLoss: 0.239216\n",
            "Train Epoch: 2 [9600/60000]\tLoss: 0.299018\n",
            "Train Epoch: 2 [10240/60000]\tLoss: 0.178333\n",
            "Train Epoch: 2 [10880/60000]\tLoss: 0.094456\n",
            "Train Epoch: 2 [11520/60000]\tLoss: 0.177161\n",
            "Train Epoch: 2 [12160/60000]\tLoss: 0.215946\n",
            "Train Epoch: 2 [12800/60000]\tLoss: 0.420325\n",
            "Train Epoch: 2 [13440/60000]\tLoss: 0.190237\n",
            "Train Epoch: 2 [14080/60000]\tLoss: 0.210156\n",
            "Train Epoch: 2 [14720/60000]\tLoss: 0.378404\n",
            "Train Epoch: 2 [15360/60000]\tLoss: 0.195030\n",
            "Train Epoch: 2 [16000/60000]\tLoss: 0.233404\n",
            "Train Epoch: 2 [16640/60000]\tLoss: 0.217867\n",
            "Train Epoch: 2 [17280/60000]\tLoss: 0.136413\n",
            "Train Epoch: 2 [17920/60000]\tLoss: 0.267725\n",
            "Train Epoch: 2 [18560/60000]\tLoss: 0.241999\n",
            "Train Epoch: 2 [19200/60000]\tLoss: 0.290306\n",
            "Train Epoch: 2 [19840/60000]\tLoss: 0.049301\n",
            "Train Epoch: 2 [20480/60000]\tLoss: 0.128161\n",
            "Train Epoch: 2 [21120/60000]\tLoss: 0.123131\n",
            "Train Epoch: 2 [21760/60000]\tLoss: 0.117625\n",
            "Train Epoch: 2 [22400/60000]\tLoss: 0.581325\n",
            "Train Epoch: 2 [23040/60000]\tLoss: 0.132256\n",
            "Train Epoch: 2 [23680/60000]\tLoss: 0.082422\n",
            "Train Epoch: 2 [24320/60000]\tLoss: 0.170848\n",
            "Train Epoch: 2 [24960/60000]\tLoss: 0.391938\n",
            "Train Epoch: 2 [25600/60000]\tLoss: 0.140471\n",
            "Train Epoch: 2 [26240/60000]\tLoss: 0.187465\n",
            "Train Epoch: 2 [26880/60000]\tLoss: 0.219181\n",
            "Train Epoch: 2 [27520/60000]\tLoss: 0.285395\n",
            "Train Epoch: 2 [28160/60000]\tLoss: 0.169837\n",
            "Train Epoch: 2 [28800/60000]\tLoss: 0.130700\n",
            "Train Epoch: 2 [29440/60000]\tLoss: 0.114485\n",
            "Train Epoch: 2 [30080/60000]\tLoss: 0.171147\n",
            "Train Epoch: 2 [30720/60000]\tLoss: 0.303789\n",
            "Train Epoch: 2 [31360/60000]\tLoss: 0.148662\n",
            "Train Epoch: 2 [32000/60000]\tLoss: 0.112713\n",
            "Train Epoch: 2 [32640/60000]\tLoss: 0.515539\n",
            "Train Epoch: 2 [33280/60000]\tLoss: 0.379452\n",
            "Train Epoch: 2 [33920/60000]\tLoss: 0.171723\n",
            "Train Epoch: 2 [34560/60000]\tLoss: 0.361524\n",
            "Train Epoch: 2 [35200/60000]\tLoss: 0.219730\n",
            "Train Epoch: 2 [35840/60000]\tLoss: 0.153690\n",
            "Train Epoch: 2 [36480/60000]\tLoss: 0.119229\n",
            "Train Epoch: 2 [37120/60000]\tLoss: 0.202382\n",
            "Train Epoch: 2 [37760/60000]\tLoss: 0.090945\n",
            "Train Epoch: 2 [38400/60000]\tLoss: 0.146202\n",
            "Train Epoch: 2 [39040/60000]\tLoss: 0.185384\n",
            "Train Epoch: 2 [39680/60000]\tLoss: 0.191123\n",
            "Train Epoch: 2 [40320/60000]\tLoss: 0.194739\n",
            "Train Epoch: 2 [40960/60000]\tLoss: 0.383697\n",
            "Train Epoch: 2 [41600/60000]\tLoss: 0.164431\n",
            "Train Epoch: 2 [42240/60000]\tLoss: 0.247411\n",
            "Train Epoch: 2 [42880/60000]\tLoss: 0.161700\n",
            "Train Epoch: 2 [43520/60000]\tLoss: 0.400189\n",
            "Train Epoch: 2 [44160/60000]\tLoss: 0.292364\n",
            "Train Epoch: 2 [44800/60000]\tLoss: 0.114386\n",
            "Train Epoch: 2 [45440/60000]\tLoss: 0.087773\n",
            "Train Epoch: 2 [46080/60000]\tLoss: 0.033678\n",
            "Train Epoch: 2 [46720/60000]\tLoss: 0.273402\n",
            "Train Epoch: 2 [47360/60000]\tLoss: 0.429238\n",
            "Train Epoch: 2 [48000/60000]\tLoss: 0.157066\n",
            "Train Epoch: 2 [48640/60000]\tLoss: 0.282069\n",
            "Train Epoch: 2 [49280/60000]\tLoss: 0.312592\n",
            "Train Epoch: 2 [49920/60000]\tLoss: 0.320683\n",
            "Train Epoch: 2 [50560/60000]\tLoss: 0.133493\n",
            "Train Epoch: 2 [51200/60000]\tLoss: 0.367063\n",
            "Train Epoch: 2 [51840/60000]\tLoss: 0.389335\n",
            "Train Epoch: 2 [52480/60000]\tLoss: 0.178501\n",
            "Train Epoch: 2 [53120/60000]\tLoss: 0.173396\n",
            "Train Epoch: 2 [53760/60000]\tLoss: 0.100681\n",
            "Train Epoch: 2 [54400/60000]\tLoss: 0.070820\n",
            "Train Epoch: 2 [55040/60000]\tLoss: 0.233526\n",
            "Train Epoch: 2 [55680/60000]\tLoss: 0.256974\n",
            "Train Epoch: 2 [56320/60000]\tLoss: 0.187259\n",
            "Train Epoch: 2 [56960/60000]\tLoss: 0.168499\n",
            "Train Epoch: 2 [57600/60000]\tLoss: 0.160742\n",
            "Train Epoch: 2 [58240/60000]\tLoss: 0.073082\n",
            "Train Epoch: 2 [58880/60000]\tLoss: 0.447444\n",
            "Train Epoch: 2 [59520/60000]\tLoss: 0.266634\n",
            "\n",
            "Test set: Avg. loss: 0.0943, Accuracy: 9699/10000 (97%)\n",
            "\n",
            "Train Epoch: 3 [0/60000]\tLoss: 0.274839\n",
            "Train Epoch: 3 [640/60000]\tLoss: 0.227387\n",
            "Train Epoch: 3 [1280/60000]\tLoss: 0.262684\n",
            "Train Epoch: 3 [1920/60000]\tLoss: 0.163032\n",
            "Train Epoch: 3 [2560/60000]\tLoss: 0.066448\n",
            "Train Epoch: 3 [3200/60000]\tLoss: 0.368530\n",
            "Train Epoch: 3 [3840/60000]\tLoss: 0.162187\n",
            "Train Epoch: 3 [4480/60000]\tLoss: 0.354122\n",
            "Train Epoch: 3 [5120/60000]\tLoss: 0.165935\n",
            "Train Epoch: 3 [5760/60000]\tLoss: 0.219025\n",
            "Train Epoch: 3 [6400/60000]\tLoss: 0.384541\n",
            "Train Epoch: 3 [7040/60000]\tLoss: 0.317129\n",
            "Train Epoch: 3 [7680/60000]\tLoss: 0.375860\n",
            "Train Epoch: 3 [8320/60000]\tLoss: 0.142415\n",
            "Train Epoch: 3 [8960/60000]\tLoss: 0.210193\n",
            "Train Epoch: 3 [9600/60000]\tLoss: 0.132701\n",
            "Train Epoch: 3 [10240/60000]\tLoss: 0.068911\n",
            "Train Epoch: 3 [10880/60000]\tLoss: 0.181738\n",
            "Train Epoch: 3 [11520/60000]\tLoss: 0.084114\n",
            "Train Epoch: 3 [12160/60000]\tLoss: 0.151934\n",
            "Train Epoch: 3 [12800/60000]\tLoss: 0.165458\n",
            "Train Epoch: 3 [13440/60000]\tLoss: 0.098280\n",
            "Train Epoch: 3 [14080/60000]\tLoss: 0.195793\n",
            "Train Epoch: 3 [14720/60000]\tLoss: 0.350037\n",
            "Train Epoch: 3 [15360/60000]\tLoss: 0.057820\n",
            "Train Epoch: 3 [16000/60000]\tLoss: 0.141956\n",
            "Train Epoch: 3 [16640/60000]\tLoss: 0.195217\n",
            "Train Epoch: 3 [17280/60000]\tLoss: 0.203070\n",
            "Train Epoch: 3 [17920/60000]\tLoss: 0.150305\n",
            "Train Epoch: 3 [18560/60000]\tLoss: 0.221207\n",
            "Train Epoch: 3 [19200/60000]\tLoss: 0.133791\n",
            "Train Epoch: 3 [19840/60000]\tLoss: 0.198708\n",
            "Train Epoch: 3 [20480/60000]\tLoss: 0.222328\n",
            "Train Epoch: 3 [21120/60000]\tLoss: 0.068389\n",
            "Train Epoch: 3 [21760/60000]\tLoss: 0.119332\n",
            "Train Epoch: 3 [22400/60000]\tLoss: 0.148559\n",
            "Train Epoch: 3 [23040/60000]\tLoss: 0.065302\n",
            "Train Epoch: 3 [23680/60000]\tLoss: 0.259720\n",
            "Train Epoch: 3 [24320/60000]\tLoss: 0.255894\n",
            "Train Epoch: 3 [24960/60000]\tLoss: 0.288766\n",
            "Train Epoch: 3 [25600/60000]\tLoss: 0.061895\n",
            "Train Epoch: 3 [26240/60000]\tLoss: 0.108124\n",
            "Train Epoch: 3 [26880/60000]\tLoss: 0.042067\n",
            "Train Epoch: 3 [27520/60000]\tLoss: 0.194207\n",
            "Train Epoch: 3 [28160/60000]\tLoss: 0.195979\n",
            "Train Epoch: 3 [28800/60000]\tLoss: 0.162089\n",
            "Train Epoch: 3 [29440/60000]\tLoss: 0.117704\n",
            "Train Epoch: 3 [30080/60000]\tLoss: 0.038423\n",
            "Train Epoch: 3 [30720/60000]\tLoss: 0.257630\n",
            "Train Epoch: 3 [31360/60000]\tLoss: 0.176962\n",
            "Train Epoch: 3 [32000/60000]\tLoss: 0.160540\n",
            "Train Epoch: 3 [32640/60000]\tLoss: 0.105383\n",
            "Train Epoch: 3 [33280/60000]\tLoss: 0.187845\n",
            "Train Epoch: 3 [33920/60000]\tLoss: 0.432877\n",
            "Train Epoch: 3 [34560/60000]\tLoss: 0.135782\n",
            "Train Epoch: 3 [35200/60000]\tLoss: 0.217469\n",
            "Train Epoch: 3 [35840/60000]\tLoss: 0.318449\n",
            "Train Epoch: 3 [36480/60000]\tLoss: 0.272804\n",
            "Train Epoch: 3 [37120/60000]\tLoss: 0.091995\n",
            "Train Epoch: 3 [37760/60000]\tLoss: 0.144226\n",
            "Train Epoch: 3 [38400/60000]\tLoss: 0.321895\n",
            "Train Epoch: 3 [39040/60000]\tLoss: 0.119296\n",
            "Train Epoch: 3 [39680/60000]\tLoss: 0.275812\n",
            "Train Epoch: 3 [40320/60000]\tLoss: 0.077189\n",
            "Train Epoch: 3 [40960/60000]\tLoss: 0.276710\n",
            "Train Epoch: 3 [41600/60000]\tLoss: 0.303863\n",
            "Train Epoch: 3 [42240/60000]\tLoss: 0.104901\n",
            "Train Epoch: 3 [42880/60000]\tLoss: 0.112763\n",
            "Train Epoch: 3 [43520/60000]\tLoss: 0.125156\n",
            "Train Epoch: 3 [44160/60000]\tLoss: 0.141886\n",
            "Train Epoch: 3 [44800/60000]\tLoss: 0.069974\n",
            "Train Epoch: 3 [45440/60000]\tLoss: 0.094515\n",
            "Train Epoch: 3 [46080/60000]\tLoss: 0.178417\n",
            "Train Epoch: 3 [46720/60000]\tLoss: 0.136221\n",
            "Train Epoch: 3 [47360/60000]\tLoss: 0.070961\n",
            "Train Epoch: 3 [48000/60000]\tLoss: 0.106922\n",
            "Train Epoch: 3 [48640/60000]\tLoss: 0.266354\n",
            "Train Epoch: 3 [49280/60000]\tLoss: 0.214908\n",
            "Train Epoch: 3 [49920/60000]\tLoss: 0.256177\n",
            "Train Epoch: 3 [50560/60000]\tLoss: 0.262890\n",
            "Train Epoch: 3 [51200/60000]\tLoss: 0.172925\n",
            "Train Epoch: 3 [51840/60000]\tLoss: 0.105500\n",
            "Train Epoch: 3 [52480/60000]\tLoss: 0.190194\n",
            "Train Epoch: 3 [53120/60000]\tLoss: 0.272537\n",
            "Train Epoch: 3 [53760/60000]\tLoss: 0.046280\n",
            "Train Epoch: 3 [54400/60000]\tLoss: 0.078275\n",
            "Train Epoch: 3 [55040/60000]\tLoss: 0.137013\n",
            "Train Epoch: 3 [55680/60000]\tLoss: 0.137555\n",
            "Train Epoch: 3 [56320/60000]\tLoss: 0.020080\n",
            "Train Epoch: 3 [56960/60000]\tLoss: 0.072105\n",
            "Train Epoch: 3 [57600/60000]\tLoss: 0.098178\n",
            "Train Epoch: 3 [58240/60000]\tLoss: 0.036242\n",
            "Train Epoch: 3 [58880/60000]\tLoss: 0.118713\n",
            "Train Epoch: 3 [59520/60000]\tLoss: 0.139638\n",
            "\n",
            "Test set: Avg. loss: 0.0751, Accuracy: 9751/10000 (98%)\n",
            "\n"
          ]
        }
      ]
    },
    {
      "cell_type": "code",
      "source": [
        "# Run network on data we got before and show predictions\n",
        "output = model(example_data)\n",
        "\n",
        "fig = plt.figure()\n",
        "for i in range(10):\n",
        "  plt.subplot(5,5,i+1)\n",
        "  plt.tight_layout()\n",
        "  plt.imshow(example_data[i][0], cmap='gray', interpolation='none')\n",
        "  plt.title(\"Prediction: {}\".format(\n",
        "    output.data.max(1, keepdim=True)[1][i].item()))\n",
        "  plt.xticks([])\n",
        "  plt.yticks([])\n",
        "plt.show()"
      ],
      "metadata": {
        "id": "o7fRUAy9Se1B",
        "colab": {
          "base_uri": "https://localhost:8080/",
          "height": 207
        },
        "outputId": "0eac2317-d00f-44e9-8190-93f801632c69"
      },
      "execution_count": 10,
      "outputs": [
        {
          "output_type": "display_data",
          "data": {
            "text/plain": [
              "<Figure size 640x480 with 10 Axes>"
            ],
            "image/png": "[encoded data removed]"
          },
          "metadata": {}
        }
      ]
    }
  ]
}