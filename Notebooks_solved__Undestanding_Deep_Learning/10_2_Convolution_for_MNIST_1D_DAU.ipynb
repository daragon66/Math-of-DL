{
  "nbformat": 4,
  "nbformat_minor": 0,
  "metadata": {
    "colab": {
      "provenance": []
    },
    "kernelspec": {
      "name": "python3",
      "display_name": "Python 3"
    },
    "language_info": {
      "name": "python"
    }
  },
  "cells": [
    {
      "cell_type": "markdown",
      "metadata": {
        "id": "view-in-github"
      },
      "source": [
        "<a href=\"https://colab.research.google.com/github/udlbook/udlbook/blob/main/Notebooks/Chap10/10_2_Convolution_for_MNIST_1D.ipynb\" target=\"_parent\"><img src=\"https://colab.research.google.com/assets/colab-badge.svg\" alt=\"Open In Colab\"/></a>"
      ]
    },
    {
      "cell_type": "markdown",
      "source": [
        "# **Notebook 10.2: Convolution for MNIST-1D**\n",
        "\n",
        "This notebook investigates a 1D convolutional network for MNIST-1D as in figure 10.7 and 10.8a.\n",
        "\n",
        "Work through the cells below, running each cell in turn. In various places you will see the words \"TO DO\". Follow the instructions at these places and make predictions about what is going to happen or write code to complete the functions.\n",
        "\n",
        "Contact me at udlbookmail@gmail.com if you find any mistakes or have any suggestions.\n",
        "\n"
      ],
      "metadata": {
        "id": "t9vk9Elugvmi"
      }
    },
    {
      "cell_type": "code",
      "source": [
        "# Run this if you're in a Colab to install MNIST 1D repository\n",
        "!pip install git+https://github.com/greydanus/mnist1d"
      ],
      "metadata": {
        "id": "D5yLObtZCi9J",
        "colab": {
          "base_uri": "https://localhost:8080/"
        },
        "outputId": "a6e0b1b8-4dcd-4adb-faec-942bbeabe078"
      },
      "execution_count": 1,
      "outputs": [
        {
          "output_type": "stream",
          "name": "stdout",
          "text": [
            "Collecting git+https://github.com/greydanus/mnist1d\n",
            "  Cloning https://github.com/greydanus/mnist1d to /tmp/pip-req-build-zparn2oo\n",
            "  Running command git clone --filter=blob:none --quiet https://github.com/greydanus/mnist1d /tmp/pip-req-build-zparn2oo\n",
            "  Resolved https://github.com/greydanus/mnist1d to commit 350929d12f4c9a4b7355e0c96604e41b9239bdb4\n",
            "  Installing build dependencies ... \u001b[?25l\u001b[?25hdone\n",
            "  Getting requirements to build wheel ... \u001b[?25l\u001b[?25hdone\n",
            "  Preparing metadata (pyproject.toml) ... \u001b[?25l\u001b[?25hdone\n",
            "Requirement already satisfied: requests in /usr/local/lib/python3.10/dist-packages (from mnist1d==0.0.2.post9) (2.31.0)\n",
            "Requirement already satisfied: numpy in /usr/local/lib/python3.10/dist-packages (from mnist1d==0.0.2.post9) (1.25.2)\n",
            "Requirement already satisfied: matplotlib in /usr/local/lib/python3.10/dist-packages (from mnist1d==0.0.2.post9) (3.7.1)\n",
            "Requirement already satisfied: scipy in /usr/local/lib/python3.10/dist-packages (from mnist1d==0.0.2.post9) (1.11.4)\n",
            "Requirement already satisfied: contourpy>=1.0.1 in /usr/local/lib/python3.10/dist-packages (from matplotlib->mnist1d==0.0.2.post9) (1.2.1)\n",
            "Requirement already satisfied: cycler>=0.10 in /usr/local/lib/python3.10/dist-packages (from matplotlib->mnist1d==0.0.2.post9) (0.12.1)\n",
            "Requirement already satisfied: fonttools>=4.22.0 in /usr/local/lib/python3.10/dist-packages (from matplotlib->mnist1d==0.0.2.post9) (4.53.0)\n",
            "Requirement already satisfied: kiwisolver>=1.0.1 in /usr/local/lib/python3.10/dist-packages (from matplotlib->mnist1d==0.0.2.post9) (1.4.5)\n",
            "Requirement already satisfied: packaging>=20.0 in /usr/local/lib/python3.10/dist-packages (from matplotlib->mnist1d==0.0.2.post9) (24.1)\n",
            "Requirement already satisfied: pillow>=6.2.0 in /usr/local/lib/python3.10/dist-packages (from matplotlib->mnist1d==0.0.2.post9) (9.4.0)\n",
            "Requirement already satisfied: pyparsing>=2.3.1 in /usr/local/lib/python3.10/dist-packages (from matplotlib->mnist1d==0.0.2.post9) (3.1.2)\n",
            "Requirement already satisfied: python-dateutil>=2.7 in /usr/local/lib/python3.10/dist-packages (from matplotlib->mnist1d==0.0.2.post9) (2.8.2)\n",
            "Requirement already satisfied: charset-normalizer<4,>=2 in /usr/local/lib/python3.10/dist-packages (from requests->mnist1d==0.0.2.post9) (3.3.2)\n",
            "Requirement already satisfied: idna<4,>=2.5 in /usr/local/lib/python3.10/dist-packages (from requests->mnist1d==0.0.2.post9) (3.7)\n",
            "Requirement already satisfied: urllib3<3,>=1.21.1 in /usr/local/lib/python3.10/dist-packages (from requests->mnist1d==0.0.2.post9) (2.0.7)\n",
            "Requirement already satisfied: certifi>=2017.4.17 in /usr/local/lib/python3.10/dist-packages (from requests->mnist1d==0.0.2.post9) (2024.6.2)\n",
            "Requirement already satisfied: six>=1.5 in /usr/local/lib/python3.10/dist-packages (from python-dateutil>=2.7->matplotlib->mnist1d==0.0.2.post9) (1.16.0)\n",
            "Building wheels for collected packages: mnist1d\n",
            "  Building wheel for mnist1d (pyproject.toml) ... \u001b[?25l\u001b[?25hdone\n",
            "  Created wheel for mnist1d: filename=mnist1d-0.0.2.post9-py3-none-any.whl size=14498 sha256=71a0476a4934b6c9554e1e8fc183cc116bba2d1d389a9e1e5638a73031d14498\n",
            "  Stored in directory: /tmp/pip-ephem-wheel-cache-h87qc5sv/wheels/41/95/55/45fcf7d38cfa97e35682da6c5017d4513729131326ce935371\n",
            "Successfully built mnist1d\n",
            "Installing collected packages: mnist1d\n",
            "Successfully installed mnist1d-0.0.2.post9\n"
          ]
        }
      ]
    },
    {
      "cell_type": "code",
      "source": [
        "import numpy as np\n",
        "import os\n",
        "import torch, torch.nn as nn\n",
        "from torch.utils.data import TensorDataset, DataLoader\n",
        "from torch.optim.lr_scheduler import StepLR\n",
        "import matplotlib.pyplot as plt\n",
        "import mnist1d\n",
        "import random"
      ],
      "metadata": {
        "id": "YrXWAH7sUWvU"
      },
      "execution_count": 2,
      "outputs": []
    },
    {
      "cell_type": "code",
      "source": [
        "args = mnist1d.data.get_dataset_args()\n",
        "data = mnist1d.data.get_dataset(args, path='./mnist1d_data.pkl', download=False, regenerate=False)\n",
        "\n",
        "# The training and test input and outputs are in\n",
        "# data['x'], data['y'], data['x_test'], and data['y_test']\n",
        "print(\"Examples in training set: {}\".format(len(data['y'])))\n",
        "print(\"Examples in test set: {}\".format(len(data['y_test'])))\n",
        "print(\"Length of each example: {}\".format(data['x'].shape[-1]))"
      ],
      "metadata": {
        "id": "twI72ZCrCt5z",
        "colab": {
          "base_uri": "https://localhost:8080/"
        },
        "outputId": "64bcc016-9729-4357-d153-3be056e8f2db"
      },
      "execution_count": 3,
      "outputs": [
        {
          "output_type": "stream",
          "name": "stdout",
          "text": [
            "Did or could not load data from ./mnist1d_data.pkl. Rebuilding dataset...\n",
            "Examples in training set: 4000\n",
            "Examples in test set: 1000\n",
            "Length of each example: 40\n"
          ]
        }
      ]
    },
    {
      "cell_type": "code",
      "source": [
        "# Load in the data\n",
        "train_data_x = data['x'].transpose()\n",
        "train_data_y = data['y']\n",
        "val_data_x = data['x_test'].transpose()\n",
        "val_data_y = data['y_test']\n",
        "# Print out sizes\n",
        "print(\"Train data: %d examples (columns), each of which has %d dimensions (rows)\"%((train_data_x.shape[1],train_data_x.shape[0])))\n",
        "print(\"Validation data: %d examples (columns), each of which has %d dimensions (rows)\"%((val_data_x.shape[1],val_data_x.shape[0])))"
      ],
      "metadata": {
        "id": "8bKADvLHbiV5",
        "colab": {
          "base_uri": "https://localhost:8080/"
        },
        "outputId": "80b4d8de-71cd-4f34-e315-97b7f95e9a9f"
      },
      "execution_count": 4,
      "outputs": [
        {
          "output_type": "stream",
          "name": "stdout",
          "text": [
            "Train data: 4000 examples (columns), each of which has 40 dimensions (rows)\n",
            "Validation data: 1000 examples (columns), each of which has 40 dimensions (rows)\n"
          ]
        }
      ]
    },
    {
      "cell_type": "markdown",
      "source": [
        "Define the network"
      ],
      "metadata": {
        "id": "_sFvRDGrl4qe"
      }
    },
    {
      "cell_type": "code",
      "source": [
        "# There are 40 input dimensions and 10 output dimensions for this data\n",
        "# The inputs correspond to the 40 offsets in the MNIST1D template.\n",
        "D_i = 40\n",
        "# The outputs correspond to the 10 digits\n",
        "D_o = 10\n",
        "\n",
        "\n",
        "# TODO Create a model with the following layers\n",
        "# 1. Convolutional layer, (input=length 40 and 1 channel, kernel size 3, stride 2, padding=\"valid\", 15 output channels )\n",
        "# 2. ReLU\n",
        "# 3. Convolutional layer, (input=length 19 and 15 channels, kernel size 3, stride 2, padding=\"valid\", 15 output channels )\n",
        "# 4. ReLU\n",
        "# 5. Convolutional layer, (input=length 9 and 15 channels, kernel size 3, stride 2, padding=\"valid\", 15 output channels)\n",
        "# 6. ReLU\n",
        "# 7. Flatten (converts 4x15) to length 60\n",
        "# 8. Linear layer (input size = 60, output size = 10)\n",
        "# References:\n",
        "# https://pytorch.org/docs/1.13/generated/torch.nn.Conv1d.html?highlight=conv1d#torch.nn.Conv1d\n",
        "# https://pytorch.org/docs/stable/generated/torch.nn.Flatten.html\n",
        "# https://pytorch.org/docs/1.13/generated/torch.nn.Linear.html?highlight=linear#torch.nn.Linear\n",
        "\n",
        "# NOTE THAT THE CONVOLUTIONAL LAYERS NEED TO TAKE THE NUMBER OF INPUT CHANNELS AS A PARAMETER\n",
        "# AND NOT THE INPUT SIZE.\n",
        "\n",
        "# Replace the following function:\n",
        "model = nn.Sequential(\n",
        "nn.Flatten(),\n",
        "nn.Linear(40, 100),\n",
        "nn.ReLU(),\n",
        "nn.Linear(100, 100),\n",
        "nn.ReLU(),\n",
        "nn.Linear(100, 10))"
      ],
      "metadata": {
        "id": "FslroPJJffrh"
      },
      "execution_count": null,
      "outputs": []
    },
    {
      "cell_type": "code",
      "source": [
        "# There are 40 input dimensions and 10 output dimensions for this data\n",
        "# The inputs correspond to the 40 offsets in the MNIST1D template.\n",
        "D_i = 40\n",
        "# The outputs correspond to the 10 digits\n",
        "D_o = 10\n",
        "\n",
        "# Define the model with convolutional layers\n",
        "model = nn.Sequential(\n",
        "    # Convolutional layer 1\n",
        "    nn.Conv1d(in_channels=1, out_channels=15, kernel_size=3, stride=2, padding=0),\n",
        "    nn.ReLU(),\n",
        "    # Convolutional layer 2\n",
        "    nn.Conv1d(in_channels=15, out_channels=15, kernel_size=3, stride=2, padding=0),\n",
        "    nn.ReLU(),\n",
        "    # Convolutional layer 3\n",
        "    nn.Conv1d(in_channels=15, out_channels=15, kernel_size=3, stride=2, padding=0),\n",
        "    nn.ReLU(),\n",
        "    # Flatten layer\n",
        "    nn.Flatten(),\n",
        "    # Linear layer\n",
        "    nn.Linear(60, 10)  # Input size 60 (4 x 15 from Conv layers), output size 10 (number of classes)\n",
        ")\n",
        "\n",
        "# Print the model architecture\n",
        "print(model)\n"
      ],
      "metadata": {
        "colab": {
          "base_uri": "https://localhost:8080/"
        },
        "id": "P1yrzgM22g9E",
        "outputId": "71543daf-3187-43ea-f49b-8886267b6f31"
      },
      "execution_count": 5,
      "outputs": [
        {
          "output_type": "stream",
          "name": "stdout",
          "text": [
            "Sequential(\n",
            "  (0): Conv1d(1, 15, kernel_size=(3,), stride=(2,))\n",
            "  (1): ReLU()\n",
            "  (2): Conv1d(15, 15, kernel_size=(3,), stride=(2,))\n",
            "  (3): ReLU()\n",
            "  (4): Conv1d(15, 15, kernel_size=(3,), stride=(2,))\n",
            "  (5): ReLU()\n",
            "  (6): Flatten(start_dim=1, end_dim=-1)\n",
            "  (7): Linear(in_features=60, out_features=10, bias=True)\n",
            ")\n"
          ]
        }
      ]
    },
    {
      "cell_type": "code",
      "source": [
        "# He initialization of weights\n",
        "def weights_init(layer_in):\n",
        "  if isinstance(layer_in, nn.Linear):\n",
        "    nn.init.kaiming_uniform_(layer_in.weight)\n",
        "    layer_in.bias.data.fill_(0.0)"
      ],
      "metadata": {
        "id": "YgLaex1pfhqz"
      },
      "execution_count": 6,
      "outputs": []
    },
    {
      "cell_type": "code",
      "source": [
        "# choose cross entropy loss function (equation 5.24 in the loss notes)\n",
        "loss_function = nn.CrossEntropyLoss()\n",
        "# construct SGD optimizer and initialize learning rate and momentum\n",
        "optimizer = torch.optim.SGD(model.parameters(), lr = 0.05, momentum=0.9)\n",
        "# object that decreases learning rate by half every 20 epochs\n",
        "scheduler = StepLR(optimizer, step_size=20, gamma=0.5)\n",
        "# create 100 dummy data points and store in data loader class\n",
        "x_train = torch.tensor(train_data_x.transpose().astype('float32'))\n",
        "y_train = torch.tensor(train_data_y.astype('long')).long()\n",
        "x_val= torch.tensor(val_data_x.transpose().astype('float32'))\n",
        "y_val = torch.tensor(val_data_y.astype('long')).long()\n",
        "\n",
        "# load the data into a class that creates the batches\n",
        "data_loader = DataLoader(TensorDataset(x_train,y_train), batch_size=100, shuffle=True, worker_init_fn=np.random.seed(1))\n",
        "\n",
        "# Initialize model weights\n",
        "model.apply(weights_init)\n",
        "\n",
        "# loop over the dataset n_epoch times\n",
        "n_epoch = 100\n",
        "# store the loss and the % correct at each epoch\n",
        "losses_train = np.zeros((n_epoch))\n",
        "errors_train = np.zeros((n_epoch))\n",
        "losses_val = np.zeros((n_epoch))\n",
        "errors_val = np.zeros((n_epoch))\n",
        "\n",
        "for epoch in range(n_epoch):\n",
        "  # loop over batches\n",
        "  for i, data in enumerate(data_loader):\n",
        "    # retrieve inputs and labels for this batch\n",
        "    x_batch, y_batch = data\n",
        "    # zero the parameter gradients\n",
        "    optimizer.zero_grad()\n",
        "    # forward pass -- calculate model output\n",
        "    pred = model(x_batch[:,None,:])\n",
        "    # compute the loss\n",
        "    loss = loss_function(pred, y_batch)\n",
        "    # backward pass\n",
        "    loss.backward()\n",
        "    # SGD update\n",
        "    optimizer.step()\n",
        "\n",
        "  # Run whole dataset to get statistics -- normally wouldn't do this\n",
        "  pred_train = model(x_train[:,None,:])\n",
        "  pred_val = model(x_val[:,None,:])\n",
        "  _, predicted_train_class = torch.max(pred_train.data, 1)\n",
        "  _, predicted_val_class = torch.max(pred_val.data, 1)\n",
        "  errors_train[epoch] = 100 - 100 * (predicted_train_class == y_train).float().sum() / len(y_train)\n",
        "  errors_val[epoch]= 100 - 100 * (predicted_val_class == y_val).float().sum() / len(y_val)\n",
        "  losses_train[epoch] = loss_function(pred_train, y_train).item()\n",
        "  losses_val[epoch]= loss_function(pred_val, y_val).item()\n",
        "  print(f'Epoch {epoch:5d}, train loss {losses_train[epoch]:.6f}, train error {errors_train[epoch]:3.2f},  val loss {losses_val[epoch]:.6f}, percent error {errors_val[epoch]:3.2f}')\n",
        "\n",
        "  # tell scheduler to consider updating learning rate\n",
        "  scheduler.step()\n",
        "\n",
        "# Plot the results\n",
        "fig, ax = plt.subplots()\n",
        "ax.plot(errors_train,'r-',label='train')\n",
        "ax.plot(errors_val,'b-',label='validation')\n",
        "ax.set_ylim(0,100); ax.set_xlim(0,n_epoch)\n",
        "ax.set_xlabel('Epoch'); ax.set_ylabel('Error')\n",
        "ax.set_title('Part I: Validation Result %3.2f'%(errors_val[-1]))\n",
        "ax.legend()\n",
        "plt.show()"
      ],
      "metadata": {
        "id": "NYw8I_3mmX5c",
        "colab": {
          "base_uri": "https://localhost:8080/",
          "height": 1000
        },
        "outputId": "2973c5e1-3abf-4cb4-ad6e-3b6a515d5bfa"
      },
      "execution_count": 7,
      "outputs": [
        {
          "output_type": "stream",
          "name": "stdout",
          "text": [
            "Epoch     0, train loss 1.896134, train error 76.50,  val loss 1.880041, percent error 75.20\n",
            "Epoch     1, train loss 1.462198, train error 56.80,  val loss 1.480343, percent error 59.40\n",
            "Epoch     2, train loss 1.333855, train error 53.97,  val loss 1.333923, percent error 55.80\n",
            "Epoch     3, train loss 1.402131, train error 56.40,  val loss 1.438793, percent error 58.40\n",
            "Epoch     4, train loss 1.228354, train error 50.03,  val loss 1.263724, percent error 54.00\n",
            "Epoch     5, train loss 1.175211, train error 49.40,  val loss 1.211616, percent error 50.20\n",
            "Epoch     6, train loss 1.068876, train error 43.25,  val loss 1.112382, percent error 45.10\n",
            "Epoch     7, train loss 1.059654, train error 42.20,  val loss 1.116180, percent error 45.60\n",
            "Epoch     8, train loss 0.924686, train error 36.88,  val loss 0.985559, percent error 39.70\n",
            "Epoch     9, train loss 0.911540, train error 38.03,  val loss 0.987766, percent error 41.10\n",
            "Epoch    10, train loss 0.793986, train error 31.47,  val loss 0.867527, percent error 34.80\n",
            "Epoch    11, train loss 0.738963, train error 29.30,  val loss 0.801288, percent error 33.20\n",
            "Epoch    12, train loss 0.702973, train error 27.25,  val loss 0.776660, percent error 31.30\n",
            "Epoch    13, train loss 0.731516, train error 27.80,  val loss 0.838772, percent error 31.10\n",
            "Epoch    14, train loss 0.576133, train error 21.47,  val loss 0.636312, percent error 24.80\n",
            "Epoch    15, train loss 0.544227, train error 20.93,  val loss 0.643352, percent error 23.20\n",
            "Epoch    16, train loss 0.486483, train error 18.95,  val loss 0.625077, percent error 21.30\n",
            "Epoch    17, train loss 0.424183, train error 15.62,  val loss 0.547069, percent error 17.70\n",
            "Epoch    18, train loss 0.404546, train error 15.30,  val loss 0.517557, percent error 17.90\n",
            "Epoch    19, train loss 0.351843, train error 12.57,  val loss 0.494244, percent error 16.50\n",
            "Epoch    20, train loss 0.304101, train error 11.38,  val loss 0.433063, percent error 13.10\n",
            "Epoch    21, train loss 0.232172, train error 7.93,  val loss 0.378529, percent error 12.80\n",
            "Epoch    22, train loss 0.231596, train error 8.35,  val loss 0.382980, percent error 12.90\n",
            "Epoch    23, train loss 0.206742, train error 7.20,  val loss 0.380364, percent error 12.10\n",
            "Epoch    24, train loss 0.201534, train error 7.00,  val loss 0.420636, percent error 13.40\n",
            "Epoch    25, train loss 0.247975, train error 9.20,  val loss 0.466804, percent error 15.00\n",
            "Epoch    26, train loss 0.169604, train error 5.70,  val loss 0.360389, percent error 11.10\n",
            "Epoch    27, train loss 0.155139, train error 5.15,  val loss 0.354286, percent error 10.80\n",
            "Epoch    28, train loss 0.165627, train error 5.75,  val loss 0.354183, percent error 9.70\n",
            "Epoch    29, train loss 0.138040, train error 4.50,  val loss 0.351070, percent error 11.00\n",
            "Epoch    30, train loss 0.131531, train error 4.22,  val loss 0.330288, percent error 9.60\n",
            "Epoch    31, train loss 0.123276, train error 4.25,  val loss 0.363966, percent error 10.00\n",
            "Epoch    32, train loss 0.140930, train error 4.90,  val loss 0.355213, percent error 11.00\n",
            "Epoch    33, train loss 0.122639, train error 4.10,  val loss 0.340128, percent error 10.10\n",
            "Epoch    34, train loss 0.121596, train error 4.03,  val loss 0.371965, percent error 10.80\n",
            "Epoch    35, train loss 0.146265, train error 5.50,  val loss 0.381165, percent error 10.20\n",
            "Epoch    36, train loss 0.093813, train error 2.82,  val loss 0.330548, percent error 9.20\n",
            "Epoch    37, train loss 0.088292, train error 2.80,  val loss 0.338403, percent error 10.00\n",
            "Epoch    38, train loss 0.136127, train error 5.18,  val loss 0.380878, percent error 11.40\n",
            "Epoch    39, train loss 0.100910, train error 3.32,  val loss 0.377261, percent error 10.70\n",
            "Epoch    40, train loss 0.068496, train error 1.90,  val loss 0.329535, percent error 9.70\n",
            "Epoch    41, train loss 0.069796, train error 2.12,  val loss 0.344172, percent error 10.10\n",
            "Epoch    42, train loss 0.062441, train error 1.82,  val loss 0.344320, percent error 9.70\n",
            "Epoch    43, train loss 0.058796, train error 1.47,  val loss 0.334873, percent error 9.60\n",
            "Epoch    44, train loss 0.055148, train error 1.50,  val loss 0.339576, percent error 9.50\n",
            "Epoch    45, train loss 0.055815, train error 1.45,  val loss 0.367111, percent error 10.10\n",
            "Epoch    46, train loss 0.049119, train error 1.22,  val loss 0.345724, percent error 9.70\n",
            "Epoch    47, train loss 0.049070, train error 1.05,  val loss 0.346624, percent error 9.50\n",
            "Epoch    48, train loss 0.051481, train error 1.43,  val loss 0.370259, percent error 10.00\n",
            "Epoch    49, train loss 0.047717, train error 1.07,  val loss 0.363451, percent error 9.60\n",
            "Epoch    50, train loss 0.049203, train error 1.38,  val loss 0.368995, percent error 10.10\n",
            "Epoch    51, train loss 0.049314, train error 1.32,  val loss 0.368107, percent error 9.90\n",
            "Epoch    52, train loss 0.047347, train error 1.32,  val loss 0.378900, percent error 10.20\n",
            "Epoch    53, train loss 0.042639, train error 0.95,  val loss 0.369435, percent error 9.90\n",
            "Epoch    54, train loss 0.042907, train error 0.95,  val loss 0.383262, percent error 10.20\n",
            "Epoch    55, train loss 0.043739, train error 1.03,  val loss 0.381289, percent error 9.80\n",
            "Epoch    56, train loss 0.038273, train error 0.82,  val loss 0.378853, percent error 9.90\n",
            "Epoch    57, train loss 0.035805, train error 0.65,  val loss 0.383735, percent error 9.90\n",
            "Epoch    58, train loss 0.036668, train error 0.80,  val loss 0.371092, percent error 9.60\n",
            "Epoch    59, train loss 0.034346, train error 0.55,  val loss 0.391034, percent error 9.90\n",
            "Epoch    60, train loss 0.033606, train error 0.68,  val loss 0.386063, percent error 10.10\n",
            "Epoch    61, train loss 0.032253, train error 0.55,  val loss 0.397526, percent error 9.90\n",
            "Epoch    62, train loss 0.031274, train error 0.47,  val loss 0.396577, percent error 9.90\n",
            "Epoch    63, train loss 0.031568, train error 0.53,  val loss 0.393345, percent error 9.70\n",
            "Epoch    64, train loss 0.030173, train error 0.45,  val loss 0.397254, percent error 9.90\n",
            "Epoch    65, train loss 0.029713, train error 0.50,  val loss 0.395345, percent error 9.90\n",
            "Epoch    66, train loss 0.032667, train error 0.50,  val loss 0.404352, percent error 10.10\n",
            "Epoch    67, train loss 0.029443, train error 0.47,  val loss 0.401254, percent error 9.80\n",
            "Epoch    68, train loss 0.029701, train error 0.43,  val loss 0.405043, percent error 9.50\n",
            "Epoch    69, train loss 0.028382, train error 0.43,  val loss 0.404722, percent error 10.00\n",
            "Epoch    70, train loss 0.028648, train error 0.53,  val loss 0.400732, percent error 9.70\n",
            "Epoch    71, train loss 0.027979, train error 0.50,  val loss 0.402374, percent error 9.90\n",
            "Epoch    72, train loss 0.027275, train error 0.40,  val loss 0.404925, percent error 9.80\n",
            "Epoch    73, train loss 0.030063, train error 0.50,  val loss 0.408751, percent error 9.50\n",
            "Epoch    74, train loss 0.026727, train error 0.43,  val loss 0.407041, percent error 9.60\n",
            "Epoch    75, train loss 0.026839, train error 0.45,  val loss 0.411768, percent error 10.00\n",
            "Epoch    76, train loss 0.026037, train error 0.43,  val loss 0.404649, percent error 9.70\n",
            "Epoch    77, train loss 0.025822, train error 0.43,  val loss 0.411708, percent error 10.10\n",
            "Epoch    78, train loss 0.025798, train error 0.43,  val loss 0.412258, percent error 10.10\n",
            "Epoch    79, train loss 0.025744, train error 0.43,  val loss 0.413711, percent error 10.30\n",
            "Epoch    80, train loss 0.024640, train error 0.38,  val loss 0.415051, percent error 10.00\n",
            "Epoch    81, train loss 0.024409, train error 0.40,  val loss 0.416038, percent error 9.90\n",
            "Epoch    82, train loss 0.024347, train error 0.38,  val loss 0.417139, percent error 10.10\n",
            "Epoch    83, train loss 0.024766, train error 0.47,  val loss 0.416991, percent error 10.20\n",
            "Epoch    84, train loss 0.023951, train error 0.35,  val loss 0.415932, percent error 10.10\n",
            "Epoch    85, train loss 0.023759, train error 0.40,  val loss 0.419394, percent error 10.10\n",
            "Epoch    86, train loss 0.023877, train error 0.35,  val loss 0.416187, percent error 9.70\n",
            "Epoch    87, train loss 0.023636, train error 0.32,  val loss 0.422228, percent error 10.00\n",
            "Epoch    88, train loss 0.023460, train error 0.32,  val loss 0.420905, percent error 10.30\n",
            "Epoch    89, train loss 0.023140, train error 0.32,  val loss 0.422429, percent error 10.20\n",
            "Epoch    90, train loss 0.023381, train error 0.30,  val loss 0.421281, percent error 10.10\n",
            "Epoch    91, train loss 0.023100, train error 0.28,  val loss 0.426724, percent error 10.10\n",
            "Epoch    92, train loss 0.022888, train error 0.30,  val loss 0.425951, percent error 10.00\n",
            "Epoch    93, train loss 0.022939, train error 0.32,  val loss 0.426361, percent error 10.30\n",
            "Epoch    94, train loss 0.022662, train error 0.30,  val loss 0.426417, percent error 10.40\n",
            "Epoch    95, train loss 0.022369, train error 0.30,  val loss 0.425632, percent error 10.20\n",
            "Epoch    96, train loss 0.022297, train error 0.32,  val loss 0.429009, percent error 10.20\n",
            "Epoch    97, train loss 0.023537, train error 0.35,  val loss 0.427725, percent error 10.40\n",
            "Epoch    98, train loss 0.022074, train error 0.28,  val loss 0.429959, percent error 10.10\n",
            "Epoch    99, train loss 0.022015, train error 0.25,  val loss 0.430178, percent error 9.90\n"
          ]
        },
        {
          "output_type": "display_data",
          "data": {
            "text/plain": [
              "<Figure size 640x480 with 1 Axes>"
            ],
            "image/png": "[encoded data removed]"
          },
          "metadata": {}
        }
      ]
    }
  ]
}